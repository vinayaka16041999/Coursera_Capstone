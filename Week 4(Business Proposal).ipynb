{
    "cells": [
        {
            "cell_type": "markdown",
            "metadata": {
                "collapsed": true
            },
            "source": "# Business Proposal"
        },
        {
            "cell_type": "markdown",
            "metadata": {},
            "source": "## Problem Statement"
        },
        {
            "cell_type": "markdown",
            "metadata": {},
            "source": "Consider a situation you are about to move to a new city due to some reasons like new job,job transfer etc. You are planning to rent/buy a house that is best in terms of distance from important facilities like Schools, Hospitals, Malls etc. The goal of the project is to suggest a neighborhood that has least distance from these facilities along with least cost for rent. So the project tries to minimize the distance from the main facilities and selecting the best ones a along with minimizing the rent of the neighborhood."
        },
        {
            "cell_type": "code",
            "execution_count": null,
            "metadata": {},
            "outputs": [],
            "source": ""
        }
    ],
    "metadata": {
        "kernelspec": {
            "display_name": "Python 3.7",
            "language": "python",
            "name": "python3"
        },
        "language_info": {
            "codemirror_mode": {
                "name": "ipython",
                "version": 3
            },
            "file_extension": ".py",
            "mimetype": "text/x-python",
            "name": "python",
            "nbconvert_exporter": "python",
            "pygments_lexer": "ipython3",
            "version": "3.7.9"
        }
    },
    "nbformat": 4,
    "nbformat_minor": 1
}